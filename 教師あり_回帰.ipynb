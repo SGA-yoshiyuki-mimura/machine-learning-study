{
 "cells": [
  {
   "cell_type": "markdown",
   "metadata": {},
   "source": [
    "## 回帰とは\n",
    "\n",
    "* 機械学習の手法は、**教師あり学習** と **教師なし学習** に分類でき、  \n",
    "更に教師あり学習は、 **回帰** と **分類** の問題に分けることができる。\n",
    "* **回帰** は、入力に対して連続した数値を対応付ける問題で、  \n",
    "ざっくり言うと入力値を元に、最適な関数を導き出して予測する手法のこと。"
   ]
  },
  {
   "cell_type": "markdown",
   "metadata": {},
   "source": [
    "## 対象データ\n",
    "\n",
    "* [DATA GO.JP](http://www.data.go.jp/?lang=japanese)にある  \n",
    "**年齢別、1日の運動・スポーツ実施時間別体格測定・テストの結果**\n",
    " * 性別 男子\n",
    " * 実施状況 ほとんど毎日\n",
    " * テスト項目 上体起こし"
   ]
  },
  {
   "cell_type": "code",
   "execution_count": null,
   "metadata": {},
   "outputs": [],
   "source": [
    "import numpy as np\n",
    "import matplotlib.pyplot as plt\n",
    "%matplotlib inline\n",
    "\n",
    "ages = [6, 10, 15, 20, 25, 30]\n",
    "times = [11.60, 17.86, 26.68, 27.01, 26.47, 25.10]\n",
    "\n",
    "# |6|117.42|21.53|11.60|  \n",
    "# |7|123.10|24.25|12.79|\n",
    "# |8|128.57|26.76|14.71|\n",
    "# |9|132.81|30.01|16.23|\n",
    "# |10|138.83|34.13|17.86|  \n",
    "# |11|144.61|38.32|18.09|\n",
    "# |12|152.77|44.46|20.48|\n",
    "# |13|158.35|48.88|24.56|\n",
    "# |14|164.43|51.80|27.28|\n",
    "# |15|167.10|56.58|26.68|\n",
    "# |16|168.95|57.49|27.44|\n",
    "# |17|170.15|59.51|29.59|\n",
    "# |18|170.76|60.16|29.06|\n",
    "# |19|171.56|61.78|29.08|\n",
    "# |20|171.71|64.50|27.01|\n",
    "# |25|171.86|67.17|26.47|\n",
    "# |30|172.23|68.03|25.10|\n",
    "# |35|171.79|69.04|23.35|\n",
    "# |40|171.62|69.75|22.33|\n",
    "# |45|171.12|69.74|21.51|\n",
    "# |50|170.75|69.24|20.32|\n",
    "\n",
    "plt.plot(ages, times, marker='o', linestyle='None')\n",
    "plt.grid(True)\n",
    "plt.xlabel('$age$')\n",
    "plt.ylabel('$times$')\n",
    "plt.show()"
   ]
  },
  {
   "cell_type": "code",
   "execution_count": null,
   "metadata": {},
   "outputs": [],
   "source": []
  }
 ],
 "metadata": {
  "kernelspec": {
   "display_name": "Python 3",
   "language": "python",
   "name": "python3"
  },
  "language_info": {
   "codemirror_mode": {
    "name": "ipython",
    "version": 3
   },
   "file_extension": ".py",
   "mimetype": "text/x-python",
   "name": "python",
   "nbconvert_exporter": "python",
   "pygments_lexer": "ipython3",
   "version": "3.6.4"
  }
 },
 "nbformat": 4,
 "nbformat_minor": 2
}
